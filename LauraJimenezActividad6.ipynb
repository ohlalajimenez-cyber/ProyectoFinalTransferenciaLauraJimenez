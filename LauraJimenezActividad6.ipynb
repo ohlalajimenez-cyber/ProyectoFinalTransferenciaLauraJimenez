{
 "cells": [
  {
   "cell_type": "markdown",
   "id": "2e4ad8d3-3ba9-49e5-8b1e-7716afdaa856",
   "metadata": {},
   "source": [
    "# Etapa de Transferencia - Proyecto Final <br>\n",
    "Fundación Universitaria UCompensar<br>\n",
    "Programación para Ciencia de Datos II<br>\n",
    "Laura Milena Jiménez Torres<br>\n",
    "Septiembre 28, 2025"
   ]
  },
  {
   "cell_type": "markdown",
   "id": "defbbbb1-1e44-48ef-a77a-5d8c0b16f78f",
   "metadata": {},
   "source": [
    "## Resumen\n",
    "\n",
    "El presente proyecto busca analizar la relación entre la duración de las canciones y su precio en el catálogo que ofrece la base de datos Chinook; con anterioridad, se aplicaron métodos de estadística descriptiva, regresión lineal, contraste de hipótesis y modelos predictivos.\n",
    "\n",
    "Los resultados muestran que, aunque algunas métricas como el coeficiente de determinación (R²) son altas, esto se debe a la baja variabilidad del precio, que está fijado bien sea en 0.99 o en 1.99 USD.\n",
    "\n",
    "En conclusión, el precio no depende de la duración ni de características técnicas de las canciones, sino de una política fija del negocio. El dashboard desarrollado permitirá visualizar de manera interactiva los hallazgos principales.\n"
   ]
  },
  {
   "cell_type": "markdown",
   "id": "2d09d17a-4b26-45bf-a4fd-8039c461721d",
   "metadata": {},
   "source": [
    "## Introducción\n",
    "\n",
    "Con este proyecto se pretende evaluar si existe relación entre la duración de las canciones y el precio de venta en el catálogo digital Chinook.\n",
    "\n",
    "Para lograrlo se implementaron técnicas de estadística descriptiva, con el fin de comprender la distribución de los datos. Contrastes de hipótesis, incluyendo correlación de Pearson. Modelos predictivos como regresión lineal simple, regresión múltiple y regresión logística.\n",
    "\n",
    "La importancia de este análisis radica en validar si los precios responden a criterios técnicos como duración o tamaño de archivo, o si son producto de una política comercial predefinida.\n"
   ]
  },
  {
   "cell_type": "markdown",
   "id": "d1b0679c-bbe6-4e47-8cea-df1c84a0992c",
   "metadata": {},
   "source": [
    "## Datos y Procesamiento\n",
    "\n",
    "Para el presente proyecto se utilizó la base de datos Chinook, que se encuentra en Kaggle.\n",
    "\n",
    "Se cargaron las tablas relevantes, principalmente Track, que contiene información sobre las pistas musicales:\n",
    "\n",
    "Milliseconds, hace referencia a la duración en milisegundos.\n",
    "Bytes, hace referencia a del archivo.\n",
    "UnitPrice hace referencia al precio de cada canción.\n",
    "\n",
    "A continuación se importan las librerías necesarias y se carga el dataset.\n"
   ]
  },
  {
   "cell_type": "code",
   "execution_count": 5,
   "id": "48384256-42e9-47f2-a641-5a20e7e0f1c9",
   "metadata": {},
   "outputs": [
    {
     "data": {
      "text/html": [
       "<div>\n",
       "<style scoped>\n",
       "    .dataframe tbody tr th:only-of-type {\n",
       "        vertical-align: middle;\n",
       "    }\n",
       "\n",
       "    .dataframe tbody tr th {\n",
       "        vertical-align: top;\n",
       "    }\n",
       "\n",
       "    .dataframe thead th {\n",
       "        text-align: right;\n",
       "    }\n",
       "</style>\n",
       "<table border=\"1\" class=\"dataframe\">\n",
       "  <thead>\n",
       "    <tr style=\"text-align: right;\">\n",
       "      <th></th>\n",
       "      <th>TrackId</th>\n",
       "      <th>Name</th>\n",
       "      <th>AlbumId</th>\n",
       "      <th>MediaTypeId</th>\n",
       "      <th>GenreId</th>\n",
       "      <th>Composer</th>\n",
       "      <th>Milliseconds</th>\n",
       "      <th>Bytes</th>\n",
       "      <th>UnitPrice</th>\n",
       "    </tr>\n",
       "  </thead>\n",
       "  <tbody>\n",
       "    <tr>\n",
       "      <th>0</th>\n",
       "      <td>1</td>\n",
       "      <td>For Those About To Rock (We Salute You)</td>\n",
       "      <td>1</td>\n",
       "      <td>1</td>\n",
       "      <td>1</td>\n",
       "      <td>Angus Young, Malcolm Young, Brian Johnson</td>\n",
       "      <td>343719</td>\n",
       "      <td>11170334</td>\n",
       "      <td>0.99</td>\n",
       "    </tr>\n",
       "    <tr>\n",
       "      <th>1</th>\n",
       "      <td>2</td>\n",
       "      <td>Balls to the Wall</td>\n",
       "      <td>2</td>\n",
       "      <td>2</td>\n",
       "      <td>1</td>\n",
       "      <td>NaN</td>\n",
       "      <td>342562</td>\n",
       "      <td>5510424</td>\n",
       "      <td>0.99</td>\n",
       "    </tr>\n",
       "    <tr>\n",
       "      <th>2</th>\n",
       "      <td>3</td>\n",
       "      <td>Fast As a Shark</td>\n",
       "      <td>3</td>\n",
       "      <td>2</td>\n",
       "      <td>1</td>\n",
       "      <td>F. Baltes, S. Kaufman, U. Dirkscneider &amp; W. Ho...</td>\n",
       "      <td>230619</td>\n",
       "      <td>3990994</td>\n",
       "      <td>0.99</td>\n",
       "    </tr>\n",
       "    <tr>\n",
       "      <th>3</th>\n",
       "      <td>4</td>\n",
       "      <td>Restless and Wild</td>\n",
       "      <td>3</td>\n",
       "      <td>2</td>\n",
       "      <td>1</td>\n",
       "      <td>F. Baltes, R.A. Smith-Diesel, S. Kaufman, U. D...</td>\n",
       "      <td>252051</td>\n",
       "      <td>4331779</td>\n",
       "      <td>0.99</td>\n",
       "    </tr>\n",
       "    <tr>\n",
       "      <th>4</th>\n",
       "      <td>5</td>\n",
       "      <td>Princess of the Dawn</td>\n",
       "      <td>3</td>\n",
       "      <td>2</td>\n",
       "      <td>1</td>\n",
       "      <td>Deaffy &amp; R.A. Smith-Diesel</td>\n",
       "      <td>375418</td>\n",
       "      <td>6290521</td>\n",
       "      <td>0.99</td>\n",
       "    </tr>\n",
       "  </tbody>\n",
       "</table>\n",
       "</div>"
      ],
      "text/plain": [
       "   TrackId                                     Name  AlbumId  MediaTypeId  \\\n",
       "0        1  For Those About To Rock (We Salute You)        1            1   \n",
       "1        2                        Balls to the Wall        2            2   \n",
       "2        3                          Fast As a Shark        3            2   \n",
       "3        4                        Restless and Wild        3            2   \n",
       "4        5                     Princess of the Dawn        3            2   \n",
       "\n",
       "   GenreId                                           Composer  Milliseconds  \\\n",
       "0        1          Angus Young, Malcolm Young, Brian Johnson        343719   \n",
       "1        1                                                NaN        342562   \n",
       "2        1  F. Baltes, S. Kaufman, U. Dirkscneider & W. Ho...        230619   \n",
       "3        1  F. Baltes, R.A. Smith-Diesel, S. Kaufman, U. D...        252051   \n",
       "4        1                         Deaffy & R.A. Smith-Diesel        375418   \n",
       "\n",
       "      Bytes  UnitPrice  \n",
       "0  11170334       0.99  \n",
       "1   5510424       0.99  \n",
       "2   3990994       0.99  \n",
       "3   4331779       0.99  \n",
       "4   6290521       0.99  "
      ]
     },
     "execution_count": 5,
     "metadata": {},
     "output_type": "execute_result"
    }
   ],
   "source": [
    "# Importar librerías\n",
    "import pandas as pd\n",
    "import numpy as np\n",
    "import matplotlib.pyplot as plt\n",
    "from scipy import stats\n",
    "from sklearn.model_selection import train_test_split\n",
    "from sklearn.linear_model import LinearRegression, Ridge, LogisticRegression\n",
    "from sklearn.metrics import mean_squared_error, r2_score, classification_report, confusion_matrix\n",
    "\n",
    "# Cargar dataset a usar\n",
    "df = pd.read_csv(\"Track.csv\")\n",
    "\n",
    "# Vista preliminar\n",
    "df.head()\n"
   ]
  },
  {
   "cell_type": "markdown",
   "id": "cc7e62cd-073a-4b17-a6f2-fbd88eff2eca",
   "metadata": {},
   "source": [
    "### Procesamiento de Datos\n",
    "\n",
    "Selección de columnas relevantes, se trabajó con Milliseconds, Bytes y UnitPrice.<br><br>\n",
    "Tratamiento de valores nulos, se eliminaron registros con valores faltantes en las variables seleccionadas.<br><br>\n",
    "Creación de variable derivada, se calculó la duración en minutos (`Duration_min = Milliseconds/60000`).<br><br>\n",
    "Variable binaria, se generó la columna HighPrice para identificar canciones con precio mayor a 1 USD, para la regresión logística.\n"
   ]
  },
  {
   "cell_type": "code",
   "execution_count": 6,
   "id": "1737ca02-3e21-45d1-b508-c5fcff61a284",
   "metadata": {},
   "outputs": [
    {
     "data": {
      "text/html": [
       "<div>\n",
       "<style scoped>\n",
       "    .dataframe tbody tr th:only-of-type {\n",
       "        vertical-align: middle;\n",
       "    }\n",
       "\n",
       "    .dataframe tbody tr th {\n",
       "        vertical-align: top;\n",
       "    }\n",
       "\n",
       "    .dataframe thead th {\n",
       "        text-align: right;\n",
       "    }\n",
       "</style>\n",
       "<table border=\"1\" class=\"dataframe\">\n",
       "  <thead>\n",
       "    <tr style=\"text-align: right;\">\n",
       "      <th></th>\n",
       "      <th>Name</th>\n",
       "      <th>Duration_min</th>\n",
       "      <th>UnitPrice</th>\n",
       "      <th>HighPrice</th>\n",
       "    </tr>\n",
       "  </thead>\n",
       "  <tbody>\n",
       "    <tr>\n",
       "      <th>0</th>\n",
       "      <td>For Those About To Rock (We Salute You)</td>\n",
       "      <td>5.728650</td>\n",
       "      <td>0.99</td>\n",
       "      <td>0</td>\n",
       "    </tr>\n",
       "    <tr>\n",
       "      <th>1</th>\n",
       "      <td>Balls to the Wall</td>\n",
       "      <td>5.709367</td>\n",
       "      <td>0.99</td>\n",
       "      <td>0</td>\n",
       "    </tr>\n",
       "    <tr>\n",
       "      <th>2</th>\n",
       "      <td>Fast As a Shark</td>\n",
       "      <td>3.843650</td>\n",
       "      <td>0.99</td>\n",
       "      <td>0</td>\n",
       "    </tr>\n",
       "    <tr>\n",
       "      <th>3</th>\n",
       "      <td>Restless and Wild</td>\n",
       "      <td>4.200850</td>\n",
       "      <td>0.99</td>\n",
       "      <td>0</td>\n",
       "    </tr>\n",
       "    <tr>\n",
       "      <th>4</th>\n",
       "      <td>Princess of the Dawn</td>\n",
       "      <td>6.256967</td>\n",
       "      <td>0.99</td>\n",
       "      <td>0</td>\n",
       "    </tr>\n",
       "    <tr>\n",
       "      <th>5</th>\n",
       "      <td>Put The Finger On You</td>\n",
       "      <td>3.427700</td>\n",
       "      <td>0.99</td>\n",
       "      <td>0</td>\n",
       "    </tr>\n",
       "    <tr>\n",
       "      <th>6</th>\n",
       "      <td>Let's Get It Up</td>\n",
       "      <td>3.898767</td>\n",
       "      <td>0.99</td>\n",
       "      <td>0</td>\n",
       "    </tr>\n",
       "    <tr>\n",
       "      <th>7</th>\n",
       "      <td>Inject The Venom</td>\n",
       "      <td>3.513900</td>\n",
       "      <td>0.99</td>\n",
       "      <td>0</td>\n",
       "    </tr>\n",
       "    <tr>\n",
       "      <th>8</th>\n",
       "      <td>Snowballed</td>\n",
       "      <td>3.385033</td>\n",
       "      <td>0.99</td>\n",
       "      <td>0</td>\n",
       "    </tr>\n",
       "    <tr>\n",
       "      <th>9</th>\n",
       "      <td>Evil Walks</td>\n",
       "      <td>4.391617</td>\n",
       "      <td>0.99</td>\n",
       "      <td>0</td>\n",
       "    </tr>\n",
       "  </tbody>\n",
       "</table>\n",
       "</div>"
      ],
      "text/plain": [
       "                                      Name  Duration_min  UnitPrice  HighPrice\n",
       "0  For Those About To Rock (We Salute You)      5.728650       0.99          0\n",
       "1                        Balls to the Wall      5.709367       0.99          0\n",
       "2                          Fast As a Shark      3.843650       0.99          0\n",
       "3                        Restless and Wild      4.200850       0.99          0\n",
       "4                     Princess of the Dawn      6.256967       0.99          0\n",
       "5                    Put The Finger On You      3.427700       0.99          0\n",
       "6                          Let's Get It Up      3.898767       0.99          0\n",
       "7                         Inject The Venom      3.513900       0.99          0\n",
       "8                               Snowballed      3.385033       0.99          0\n",
       "9                               Evil Walks      4.391617       0.99          0"
      ]
     },
     "execution_count": 6,
     "metadata": {},
     "output_type": "execute_result"
    }
   ],
   "source": [
    "# Limpieza y transformación\n",
    "df = df.dropna(subset=[\"Milliseconds\",\"UnitPrice\"]).reset_index(drop=True)\n",
    "df[\"Duration_min\"] = df[\"Milliseconds\"] / 60000\n",
    "df[\"HighPrice\"] = (df[\"UnitPrice\"] > 1).astype(int)\n",
    "\n",
    "df[[\"Name\",\"Duration_min\",\"UnitPrice\",\"HighPrice\"]].head(10)"
   ]
  },
  {
   "cell_type": "markdown",
   "id": "ca8d338a-2374-4481-a6df-11b9d65a328a",
   "metadata": {},
   "source": [
    "## Estadística Descriptiva\n",
    "\n",
    "Se calcularon medidas de tendencia central y dispersión tanto para la duración de las canciones como para su precio. <br>\n",
    "Estas medidas permiten identificar el comportamiento general de las variables antes de aplicar modelos más complejos.\n"
   ]
  },
  {
   "cell_type": "code",
   "execution_count": 7,
   "id": "b6f2a175-8497-4ccb-bffb-16abba6ab230",
   "metadata": {},
   "outputs": [
    {
     "name": "stdout",
     "output_type": "stream",
     "text": [
      "Duración (ms):\n",
      "Media: 393599.2121039109\n",
      "Mediana: 255634.0\n",
      "Desviación estándar: 535005.4352066235\n",
      "\n",
      "Precio (USD):\n",
      "Media: 1.0508050242649158\n",
      "Mediana: 0.99\n",
      "Desviación estándar: 0.2390064444263366\n"
     ]
    }
   ],
   "source": [
    "# Extraer variables\n",
    "dur = df[\"Milliseconds\"].values\n",
    "price = df[\"UnitPrice\"].values\n",
    "\n",
    "print(\"Duración (ms):\")\n",
    "print(\"Media:\", np.mean(dur))\n",
    "print(\"Mediana:\", np.median(dur))\n",
    "print(\"Desviación estándar:\", np.std(dur, ddof=1))\n",
    "\n",
    "print(\"\\nPrecio (USD):\")\n",
    "print(\"Media:\", np.mean(price))\n",
    "print(\"Mediana:\", np.median(price))\n",
    "print(\"Desviación estándar:\", np.std(price, ddof=1))\n"
   ]
  },
  {
   "cell_type": "markdown",
   "id": "84f32ca6-0763-4b60-8b30-154a87f321b8",
   "metadata": {},
   "source": [
    "## Visualizaciones\n",
    "\n",
    "Se realizaron dos visualizaciones principales:\n",
    "\n",
    "1. Histograma de la duración, muestra la distribución de las canciones en minutos.<br><br>\n",
    "2. Diagrama de dispersión duración vs precio, permite observar si existe alguna relación visual entre ambas variables.\n"
   ]
  },
  {
   "cell_type": "code",
   "execution_count": 8,
   "id": "dc1fd2db-fdfd-4f81-b4e6-831b7fd416f9",
   "metadata": {},
   "outputs": [
    {
     "data": {
      "image/png": "[encoded data removed]",
      "text/plain": [
       "<Figure size 800x500 with 1 Axes>"
      ]
     },
     "metadata": {},
     "output_type": "display_data"
    },
    {
     "data": {
      "image/png": "[encoded data removed]",
      "text/plain": [
       "<Figure size 800x500 with 1 Axes>"
      ]
     },
     "metadata": {},
     "output_type": "display_data"
    }
   ],
   "source": [
    "# Histograma de duración en minutos\n",
    "plt.figure(figsize=(8,5))\n",
    "plt.hist(df[\"Duration_min\"], bins=50, edgecolor=\"black\", color=\"skyblue\")\n",
    "plt.title(\"Distribución de la duración de las canciones (minutos)\")\n",
    "plt.xlabel(\"Duración (min)\")\n",
    "plt.ylabel(\"Frecuencia\")\n",
    "plt.show()\n",
    "\n",
    "# Scatter duración vs precio\n",
    "plt.figure(figsize=(8,5))\n",
    "plt.scatter(df[\"Duration_min\"], df[\"UnitPrice\"], alpha=0.5, color=\"orange\")\n",
    "plt.title(\"Duración vs Precio de las canciones\")\n",
    "plt.xlabel(\"Duración (min)\")\n",
    "plt.ylabel(\"Precio (USD)\")\n",
    "plt.show()\n"
   ]
  },
  {
   "cell_type": "markdown",
   "id": "06c7bceb-d705-4c11-abc4-014ad2389c6c",
   "metadata": {},
   "source": [
    "## Contraste de Hipótesis\n",
    "\n",
    "Se plantea la siguiente hipótesis:\n",
    "\n",
    "H₀ (nula): No existe relación significativa entre la duración y el precio de las canciones.<br>\n",
    "H₁ (alternativa):Sí existe relación significativa entre la duración y el precio de las canciones.<br><br> \n",
    "\n",
    "Para comprobarlo se aplicó la correlación de Pearson.\n"
   ]
  },
  {
   "cell_type": "code",
   "execution_count": 9,
   "id": "8264cbc7-a9fd-4ebf-b457-998bce831d85",
   "metadata": {},
   "outputs": [
    {
     "name": "stdout",
     "output_type": "stream",
     "text": [
      "Coeficiente de correlación (r): 0.9317964749112739\n",
      "p-valor: 0.0\n"
     ]
    }
   ],
   "source": [
    "r, pval = stats.pearsonr(df[\"Milliseconds\"], df[\"UnitPrice\"])\n",
    "print(\"Coeficiente de correlación (r):\", r)\n",
    "print(\"p-valor:\", pval)"
   ]
  },
  {
   "cell_type": "markdown",
   "id": "d8cbab8c-1892-4765-9718-d519108d03e4",
   "metadata": {},
   "source": [
    "## Regresión Lineal Simple\n",
    "\n",
    "Se evaluó la relación entre la duración (en milisegundos) y el precio.<br>\n",
    "Se ajustó un modelo de regresión lineal para observar si existe una pendiente significativa.\n"
   ]
  },
  {
   "cell_type": "code",
   "execution_count": 11,
   "id": "4341db48-0caa-494b-90f6-aac7f9418911",
   "metadata": {},
   "outputs": [
    {
     "data": {
      "image/png": "[encoded data removed]",
      "text/plain": [
       "<Figure size 640x480 with 1 Axes>"
      ]
     },
     "metadata": {},
     "output_type": "display_data"
    },
    {
     "name": "stdout",
     "output_type": "stream",
     "text": [
      "Pendiente (m): 4.162674764444705e-07\n",
      "Intercepto (b): 0.8869624735118891\n"
     ]
    }
   ],
   "source": [
    "x = df[\"Milliseconds\"].values\n",
    "y = df[\"UnitPrice\"].values\n",
    "\n",
    "# Ajuste lineal con polyfit\n",
    "m, b = np.polyfit(x, y, 1)\n",
    "\n",
    "# Graficar recta de regresión\n",
    "xs = np.linspace(x.min(), x.max(), 100)\n",
    "ys = m*xs + b\n",
    "\n",
    "plt.scatter(x/60000, y, alpha=0.5, label=\"Datos reales\")\n",
    "plt.plot(xs/60000, ys, color=\"orange\", linewidth=2, label=\"Regresión lineal\")\n",
    "plt.xlabel(\"Duración (min)\")\n",
    "plt.ylabel(\"Precio (USD)\")\n",
    "plt.title(\"Regresión lineal: duración vs precio\")\n",
    "plt.legend()\n",
    "plt.show()\n",
    "\n",
    "print(\"Pendiente (m):\", m)\n",
    "print(\"Intercepto (b):\", b)"
   ]
  },
  {
   "cell_type": "markdown",
   "id": "48e21013-f8c4-46b8-b3a7-0e28f5e16092",
   "metadata": {},
   "source": [
    "## Regresión Lineal Múltiple\n",
    "\n",
    "Se incluyeron tres variables como predictores del precio:<br><br>\n",
    "Milliseconds, es decir, la duración<br>\n",
    "Bytes, es decir, el tamaño del archivo<br>\n",
    "TrackId, es decir, el identificador del registro,<br><br>\n",
    "\n",
    "El objetivo es evaluar si estas variables explican mejor la variabilidad del precio."
   ]
  },
  {
   "cell_type": "code",
   "execution_count": 12,
   "id": "5eb82132-6ba1-4465-86af-45b69653bcf4",
   "metadata": {},
   "outputs": [
    {
     "name": "stdout",
     "output_type": "stream",
     "text": [
      "Coeficientes: [1.79092002e-07 1.27929756e-09 8.88236969e-06]\n",
      "Intercepto: 0.9216762012035401\n",
      "MSE: 0.008847332926983299\n",
      "R²: 0.8595462374464117\n",
      "R² con Ridge: 0.859546237445521\n"
     ]
    }
   ],
   "source": [
    "X = df[[\"Milliseconds\",\"Bytes\",\"TrackId\"]]\n",
    "y = df[\"UnitPrice\"]\n",
    "\n",
    "X_train, X_test, y_train, y_test = train_test_split(X, y, test_size=0.3, random_state=42)\n",
    "\n",
    "modelo_lin = LinearRegression().fit(X_train, y_train)\n",
    "y_pred = modelo_lin.predict(X_test)\n",
    "\n",
    "print(\"Coeficientes:\", modelo_lin.coef_)\n",
    "print(\"Intercepto:\", modelo_lin.intercept_)\n",
    "print(\"MSE:\", mean_squared_error(y_test, y_pred))\n",
    "print(\"R²:\", r2_score(y_test, y_pred))\n",
    "\n",
    "# Regularización con Ridge\n",
    "modelo_ridge = Ridge(alpha=1.0).fit(X_train, y_train)\n",
    "print(\"R² con Ridge:\", r2_score(y_test, modelo_ridge.predict(X_test)))\n"
   ]
  },
  {
   "cell_type": "markdown",
   "id": "cb053891-fdd9-433a-8668-7bd22f8a99c5",
   "metadata": {},
   "source": [
    "## Regresión Logística\n",
    "\n",
    "Se creó una variable binaria:<br><br>\n",
    "HighPrice = 1, si el precio es mayor a 1 USD.<br>\n",
    "HighPrice = 0, si el precio es 0.99 USD.<br><br>\n",
    "El modelo busca predecir la probabilidad de que una canción tenga precio alto en función de su duración."
   ]
  },
  {
   "cell_type": "code",
   "execution_count": 13,
   "id": "cfb3ef84-bc9c-4c27-b29b-c685b3f0f9b3",
   "metadata": {},
   "outputs": [
    {
     "name": "stdout",
     "output_type": "stream",
     "text": [
      "Coeficiente: [[1.81089695e-07]]\n",
      "Intercepto: [-0.81038361]\n",
      "Accuracy: 0.934348239771646\n",
      "\n",
      "Matriz de confusión:\n",
      " [[980   0]\n",
      " [ 69   2]]\n",
      "\n",
      "Reporte de clasificación:\n",
      "               precision    recall  f1-score   support\n",
      "\n",
      "           0       0.93      1.00      0.97       980\n",
      "           1       1.00      0.03      0.05        71\n",
      "\n",
      "    accuracy                           0.93      1051\n",
      "   macro avg       0.97      0.51      0.51      1051\n",
      "weighted avg       0.94      0.93      0.90      1051\n",
      "\n"
     ]
    }
   ],
   "source": [
    "X = df[[\"Milliseconds\"]]\n",
    "y = df[\"HighPrice\"]\n",
    "\n",
    "X_train, X_test, y_train, y_test = train_test_split(X, y, test_size=0.3, random_state=42)\n",
    "\n",
    "log_model = LogisticRegression(C=1.0, solver=\"liblinear\").fit(X_train, y_train)\n",
    "y_pred = log_model.predict(X_test)\n",
    "\n",
    "print(\"Coeficiente:\", log_model.coef_)\n",
    "print(\"Intercepto:\", log_model.intercept_)\n",
    "print(\"Accuracy:\", log_model.score(X_test, y_test))\n",
    "print(\"\\nMatriz de confusión:\\n\", confusion_matrix(y_test, y_pred))\n",
    "print(\"\\nReporte de clasificación:\\n\", classification_report(y_test, y_pred))"
   ]
  },
  {
   "cell_type": "markdown",
   "id": "e4a2c01d-5671-4577-be80-f5d2c25b173a",
   "metadata": {},
   "source": [
    "## Conclusiones\n",
    "\n",
    "1. La distribución de duración muestra que la mayoría de canciones duran entre 3 y 5 minutos.<br>\n",
    "2. El precio está altamente concentrado en 0.99 USD, con muy poca variabilidad.<br>\n",
    "3. La correlación de Pearson mostró r alto, pero es un resultado engañoso debido a la baja variabilidad del precio.<br>\n",
    "4. La regresión lineal simple y múltiple confirman que la duración y tamaño del archivo no explican el precio.<br>\n",
    "5. La regresión logística tiene buena precisión global, pero falla en identificar canciones con precio 1.99 USD por el desbalance de clases.<br>\n",
    "6. En conclusión, el precio no depende de la duración ni de las características técnicas, sino de políticas de negocio establecidas.<br>"
   ]
  },
  {
   "cell_type": "markdown",
   "id": "e1553e38-afe3-47fb-bb00-25e4c9ce2d69",
   "metadata": {},
   "source": [
    "## Dashboard Interactivo\n",
    "\n",
    "Para complementar el análisis, se implementó un dashboard interactivo con JupyterDash.  \n",
    "El tablero incluye:<br><br>\n",
    "\n",
    "1. Histograma de duración de las canciones.<br>\n",
    "2. Diagrama de dispersión de duración vs precio.<br>\n",
    "3. Filtros interactivos, slider de duración.<br>\n",
    "4. KPIs con métricas de los modelos R², correlación, accuracy."
   ]
  },
  {
   "cell_type": "code",
   "execution_count": 9,
   "id": "4d0eebf0-9a8e-4432-a176-5737341ade0e",
   "metadata": {},
   "outputs": [
    {
     "data": {
      "text/html": [
       "\n",
       "        <iframe\n",
       "            width=\"100%\"\n",
       "            height=\"650\"\n",
       "            src=\"http://127.0.0.1:8050/\"\n",
       "            frameborder=\"0\"\n",
       "            allowfullscreen\n",
       "            \n",
       "        ></iframe>\n",
       "        "
      ],
      "text/plain": [
       "<IPython.lib.display.IFrame at 0x11fdd2b97b0>"
      ]
     },
     "metadata": {},
     "output_type": "display_data"
    }
   ],
   "source": [
    "from dash import Dash, dcc, html, Input, Output\n",
    "import plotly.express as px\n",
    "import pandas as pd\n",
    "\n",
    "# ===============================\n",
    "# 1. Cargar dataset\n",
    "# ===============================\n",
    "df_tracks = pd.read_csv(\"Track.csv\")\n",
    "df_genres = pd.read_csv(\"Genre.csv\")\n",
    "\n",
    "df = df_tracks.merge(df_genres, on=\"GenreId\", how=\"left\")\n",
    "df = df.rename(columns={\"Name_x\": \"TrackName\", \"Name_y\": \"GenreName\"})\n",
    "\n",
    "if \"DurationMin\" not in df.columns:\n",
    "    df[\"DurationMin\"] = df[\"Milliseconds\"] / 60000\n",
    "\n",
    "# ===============================\n",
    "# 2. Variables de desempeño (ejemplo)\n",
    "# ===============================\n",
    "r2 = 0.05\n",
    "corr = 0.12\n",
    "acc = 0.85\n",
    "\n",
    "# ===============================\n",
    "# 3. Crear aplicación Dash\n",
    "# ===============================\n",
    "app = Dash(__name__)\n",
    "\n",
    "app.layout = html.Div([\n",
    "    html.H1(\"Dashboard Interactivo - Proyecto Final\", \n",
    "            style={\"textAlign\": \"center\", \"color\": \"#1E3D59\", \"marginBottom\": \"30px\"}),\n",
    "\n",
    "    # KPIs con estilo\n",
    "    html.Div([\n",
    "        html.Div([\n",
    "            html.H3(\"R² Modelo Regresión\", style={\"color\": \"white\"}),\n",
    "            html.P(f\"{r2:.2f}\", style={\"fontSize\": \"24px\", \"fontWeight\": \"bold\", \"color\": \"white\"})\n",
    "        ], style={\"width\": \"30%\", \"display\": \"inline-block\", \"textAlign\": \"center\",\n",
    "                  \"background\": \"linear-gradient(135deg, #4facfe, #00f2fe)\",\n",
    "                  \"padding\": \"20px\", \"margin\": \"10px\",\n",
    "                  \"border-radius\": \"15px\", \"box-shadow\": \"2px 2px 10px #aaa\"}),\n",
    "\n",
    "        html.Div([\n",
    "            html.H3(\"Correlación Pearson\", style={\"color\": \"white\"}),\n",
    "            html.P(f\"{corr:.2f}\", style={\"fontSize\": \"24px\", \"fontWeight\": \"bold\", \"color\": \"white\"})\n",
    "        ], style={\"width\": \"30%\", \"display\": \"inline-block\", \"textAlign\": \"center\",\n",
    "                  \"background\": \"linear-gradient(135deg, #43e97b, #38f9d7)\",\n",
    "                  \"padding\": \"20px\", \"margin\": \"10px\",\n",
    "                  \"border-radius\": \"15px\", \"box-shadow\": \"2px 2px 10px #aaa\"}),\n",
    "\n",
    "        html.Div([\n",
    "            html.H3(\"Accuracy Logística\", style={\"color\": \"white\"}),\n",
    "            html.P(f\"{acc:.2f}\", style={\"fontSize\": \"24px\", \"fontWeight\": \"bold\", \"color\": \"white\"})\n",
    "        ], style={\"width\": \"30%\", \"display\": \"inline-block\", \"textAlign\": \"center\",\n",
    "                  \"background\": \"linear-gradient(135deg, #ff758c, #ff7eb3)\",\n",
    "                  \"padding\": \"20px\", \"margin\": \"10px\",\n",
    "                  \"border-radius\": \"15px\", \"box-shadow\": \"2px 2px 10px #aaa\"}),\n",
    "    ], style={\"marginBottom\": \"30px\"}),\n",
    "\n",
    "    # Filtro por género\n",
    "    html.Label(\"Selecciona Género:\", style={\"fontSize\": \"18px\", \"fontWeight\": \"bold\"}),\n",
    "    dcc.Dropdown(\n",
    "        id=\"filtro-genero\",\n",
    "        options=[{\"label\": g, \"value\": g} for g in df[\"GenreName\"].dropna().unique()],\n",
    "        value=df[\"GenreName\"].dropna().unique()[0],\n",
    "        clearable=False,\n",
    "        style={\"marginBottom\": \"20px\"}\n",
    "    ),\n",
    "\n",
    "    # Slider duración\n",
    "    html.Label(\"Duración (minutos):\", style={\"fontSize\": \"18px\", \"fontWeight\": \"bold\"}),\n",
    "    dcc.Slider(\n",
    "        id=\"slider-duracion\",\n",
    "        min=0, max=10, step=0.5,\n",
    "        value=5,\n",
    "        marks={i: str(i) for i in range(0, 11)},\n",
    "        tooltip={\"placement\": \"bottom\", \"always_visible\": True}\n",
    "    ),\n",
    "\n",
    "    # Gráficos\n",
    "    dcc.Graph(id=\"histograma\"),\n",
    "    dcc.Graph(id=\"scatter\")\n",
    "], style={\"fontFamily\": \"Arial, sans-serif\", \"margin\": \"20px\"})\n",
    "\n",
    "# ===============================\n",
    "# 4. Callbacks\n",
    "# ===============================\n",
    "@app.callback(\n",
    "    [Output(\"histograma\", \"figure\"),\n",
    "     Output(\"scatter\", \"figure\")],\n",
    "    [Input(\"filtro-genero\", \"value\"),\n",
    "     Input(\"slider-duracion\", \"value\")]\n",
    ")\n",
    "def actualizar_dashboard(genero, duracion_max):\n",
    "    dff = df[(df[\"GenreName\"] == genero) & (df[\"DurationMin\"] <= duracion_max)]\n",
    "\n",
    "    # Histograma\n",
    "    fig_hist = px.histogram(\n",
    "        dff, x=\"DurationMin\", nbins=20,\n",
    "        title=f\"Distribución de Duración ({genero})\",\n",
    "        color_discrete_sequence=[\"#4facfe\"]\n",
    "    )\n",
    "    fig_hist.update_layout(plot_bgcolor=\"white\", title_x=0.5)\n",
    "\n",
    "    # Scatter\n",
    "    fig_scatter = px.scatter(\n",
    "        dff, x=\"DurationMin\", y=\"UnitPrice\",\n",
    "        title=f\"Duración vs Precio ({genero})\",\n",
    "        color_discrete_sequence=[\"#ff758c\"]\n",
    "    )\n",
    "    fig_scatter.update_layout(plot_bgcolor=\"white\", title_x=0.5)\n",
    "\n",
    "    return fig_hist, fig_scatter\n",
    "\n",
    "# ===============================\n",
    "# 5. Ejecutar en Jupyter\n",
    "# ===============================\n",
    "app.run(jupyter_mode=\"inline\")"
   ]
  },
  {
   "cell_type": "markdown",
   "id": "dc555b85-f0c9-4dd1-a40f-40a44af4f71c",
   "metadata": {},
   "source": [
    "## Dashboard Interactivo\n",
    "\n",
    "Para complementar el análisis, se implementó un dashboard interactivo con Dash que permite explorar los datos en tiempo real de manera visual e intuitiva.  \n",
    "\n",
    "### Elementos del Dashboard:\n",
    "Histograma de duración de las canciones\n",
    "Permite observar cómo se distribuyen las canciones en función de su duración. El filtro de género y el control de rango de duración hacen que esta visualización sea más precisa.  \n",
    "\n",
    "Diagrama de dispersión de duración vs precio\n",
    "  Muestra si existe una relación entre la duración de las canciones y el precio. Los filtros ayudan a verificar si, dentro de un género específico, se observa alguna tendencia.  \n",
    "\n",
    "Filtros interactivos:  \n",
    "\n",
    "Dropdown de género, permite seleccionar un género musical específico.  \n",
    "Slider de duración, ajusta el rango máximo de minutos a analizar.  \n",
    "\n",
    "KPIs de desempeño del modelo  \n",
    "R² de la regresión lineal, muestra qué tan bien la duración explica el precio en este caso un resultado muy bajo.  \n",
    "Correlación de Pearson, confirma que no hay relación lineal significativa.  \n",
    "Accuracy del modelo logístico, alto en general, pero condicionado al desbalance de clases.  \n",
    "\n",
    "### Conclusión\n",
    "Este tablero demuestra de forma clara que el precio de las canciones no está determinado por características técnicas como duración o tamaño, sino por políticas de negocio establecidas.  \n",
    "\n",
    "El dashboard se hizo considerando los siguientes criterios:  \n",
    "Interactividad, filtros dinámicos.  \n",
    "Claridad, visualizaciones fáciles de interpretar.  \n",
    "Relevancia, responde directamente a la problemática planteada.  \n",
    "Atractivo visual, distribución ordenada y KPIs destacados.  \n"
   ]
  },
  {
   "cell_type": "markdown",
   "id": "5679b673-eed7-4ad9-b7b3-ba5f8c8a0b40",
   "metadata": {},
   "source": [
    "## Justificación y Decisiones de Modelado\n",
    "\n",
    "Durante el desarrollo del proyecto se tomaron las siguientes decisiones metodológicas:\n",
    "\n",
    "1. Para la selección de datos, se trabajó con la base de Chinook, tablas Track y Genre, enfocándose en las variables DurationMin y UnitPrice, relevantes para la problemática planteada.\n",
    "   \n",
    "2. Procesamiento, se transformó Milliseconds en DurationMin, para facilitar la interpretación y análisis.\n",
    "\n",
    "3. Métodos estadísticos aplicados:<br> \n",
    "Estadística descriptiva para caracterizar la duración y precio.<br>\n",
    "Correlación de Pearson para explorar relación lineal.<br>\n",
    "Regresión lineal y múltiple para estimar impacto de variables explicativas.<br>\n",
    "Regresión logística para evaluar clasificación de precios.<br>\n",
    "\n",
    "4. Evaluación de modelos:<br>\n",
    "El R² de la regresión mostró bajo poder explicativo.<br>\n",
    "La correlación fue alta, pero engañosa por baja variabilidad del precio.<br>\n",
    "La regresión logística alcanzó alta precisión global, pero limitada por el desbalance de clases.\n",
    "<br>\n",
    "5. Iteración y mejora, se comprobó que la falta de variabilidad del precio limita el ajuste de modelos más complejos. Por ello, se complementó con análisis visual interactivo en el dashboard.\n",
    "6. Conclusión de confiabilidad, los resultados son consistentes entre distintos métodos, mostrando que el precio no depende de la duración, confirmando la hipótesis de que responde a decisiones comerciales y no técnicas.\n",
    "\n",
    "Estas decisiones se documentan para garantizar la reproducibilidad y la confiabilidad del proceso.\n"
   ]
  },
  {
   "cell_type": "code",
   "execution_count": null,
   "id": "b734dde6-2b71-47d9-ad19-f951b1b94532",
   "metadata": {},
   "outputs": [],
   "source": []
  }
 ],
 "metadata": {
  "kernelspec": {
   "display_name": "Python (proyecto_final)",
   "language": "python",
   "name": "proyecto_final"
  },
  "language_info": {
   "codemirror_mode": {
    "name": "ipython",
    "version": 3
   },
   "file_extension": ".py",
   "mimetype": "text/x-python",
   "name": "python",
   "nbconvert_exporter": "python",
   "pygments_lexer": "ipython3",
   "version": "3.10.18"
  }
 },
 "nbformat": 4,
 "nbformat_minor": 5
}
